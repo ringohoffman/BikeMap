{
 "cells": [
  {
   "cell_type": "markdown",
   "metadata": {},
   "source": [
    "### To use this notebook, just look through the headers and comments for each method. The final run is at the bottom, make sure to input your quadrant info. Preferably we get 4 of these running at the same time (with 4 different users). Once the quadrant info is ready, just click 'Cell' on the top tool bar and click Run All!\n",
    "\n",
    "**Make sure to fill out the quadrant data at the very bottom before running.**"
   ]
  },
  {
   "cell_type": "markdown",
   "metadata": {},
   "source": [
    "## Imports"
   ]
  },
  {
   "cell_type": "code",
   "execution_count": 2,
   "metadata": {
    "collapsed": true
   },
   "outputs": [],
   "source": [
    "import urllib.request\n",
    "import pandas as pd\n",
    "import pickle\n",
    "import numpy as np\n",
    "from ratelimiter import RateLimiter\n",
    "from lxml import objectify"
   ]
  },
  {
   "cell_type": "code",
   "execution_count": 3,
   "metadata": {},
   "outputs": [
    {
     "data": {
      "text/plain": [
       "array([ 30.123 ,  30.1231,  30.1232,  30.1233,  30.1234,  30.1235,\n",
       "        30.1236,  30.1237,  30.1238,  30.1239,  30.124 ,  30.1241,\n",
       "        30.1242,  30.1243,  30.1244,  30.1245,  30.1246,  30.1247,\n",
       "        30.1248,  30.1249])"
      ]
     },
     "execution_count": 3,
     "metadata": {},
     "output_type": "execute_result"
    }
   ],
   "source": [
    "# examples of arange\n",
    "np.arange(30.123,30.125,.0001)"
   ]
  },
  {
   "cell_type": "markdown",
   "metadata": {},
   "source": [
    "## Collect Intersections"
   ]
  },
  {
   "cell_type": "code",
   "execution_count": 4,
   "metadata": {
    "collapsed": true
   },
   "outputs": [],
   "source": [
    "# 1250 calls per hour = 30,000 per day, probably will take a few days to get everything at the latest\n",
    "rate_limit = RateLimiter(max_calls=1249, period=3600)"
   ]
  },
  {
   "cell_type": "code",
   "execution_count": 5,
   "metadata": {
    "collapsed": true
   },
   "outputs": [],
   "source": [
    "'''\n",
    "Parameters\n",
    "----------\n",
    "lower_left: tuple of floats (latitude, longitude) for lower left coordinate\n",
    "\n",
    "upper_right: tuple of floats (latitude, longitude) for lower left coordinate\n",
    "\n",
    "username: geonames user to use\n",
    "\n",
    "Returns\n",
    "-------\n",
    "df: pandas DataFrame containing the GPS locations of intersections within quadrant (without duplicates is in testing)\n",
    "\n",
    "'''\n",
    "def collectQuadrant(lower_left, upper_right, username):\n",
    "    \n",
    "    # create grid\n",
    "    latitudes = np.arange(lower_left[0], upper_right[0], .001)\n",
    "    longitudes = np.arange(lower_left[1], upper_right[1], .001)\n",
    "    \n",
    "    # init data tables\n",
    "    info_dict = {'Street1': [], 'Street2': [], 'Latitude': [], 'Longitude': []}\n",
    "    df = None\n",
    "    \n",
    "    # go through grid\n",
    "    for latitude in latitudes:\n",
    "        \n",
    "        for longitude in longitudes:\n",
    "            \n",
    "            # make sure to stay within rate_limit defined above\n",
    "            with rate_limit:\n",
    "                \n",
    "                info = callAPI(latitude, longitude, username)\n",
    "                \n",
    "                if info:\n",
    "                    \n",
    "                    info_dict['Street1'].append(info['street1'])\n",
    "                    info_dict['Street2'].append(info['street2'])\n",
    "                    info_dict['Latitude'].append(info['lat'])\n",
    "                    info_dict['Longitude'].append(info['lng'])\n",
    "                    \n",
    "        if df is not None:\n",
    "            \n",
    "            df = df.append(pd.DataFrame(info_dict, columns = ['Street1', 'Street2', 'Latitude', 'Longitude']))\n",
    "        \n",
    "        else:\n",
    "            \n",
    "            df = pd.DataFrame(pd.DataFrame(info_dict, columns = ['Street1', 'Street2', 'Latitude', 'Longitude']))\n",
    "            \n",
    "            \n",
    "        \n",
    "    return df.drop_duplicates()\n",
    "\n",
    "\n",
    "'''\n",
    "Parameters\n",
    "----------\n",
    "latitude: float, latitude coordinate\n",
    "\n",
    "longitude: float, longitude coordinate\n",
    "\n",
    "username: string, geonames user\n",
    "\n",
    "Returns\n",
    "-------\n",
    "dict: keys of ['street1', 'street2', 'lat', 'lng'] containing intersection info\n",
    "\n",
    "OR \n",
    "\n",
    "None: when API messes up \n",
    "\n",
    "'''\n",
    "def callAPI(latitude, longitude, username):\n",
    "    \n",
    "    r = urllib.request.urlopen('http://api.geonames.org/findNearestIntersection?lat=' + str(latitude) + '&lng=' + str(longitude) + '&username='+username).read()\n",
    "    \n",
    "    try:\n",
    "        \n",
    "        root = objectify.fromstring(r)\n",
    "        return {'street1': str(root.intersection.street1),\n",
    "                'street2': str(root.intersection.street2),\n",
    "                'lat': str(root.intersection.lat),\n",
    "                'lng': str(root.intersection.lng)}\n",
    "    \n",
    "    except:\n",
    "        \n",
    "        return None\n",
    "        \n",
    "    "
   ]
  },
  {
   "cell_type": "code",
   "execution_count": 6,
   "metadata": {},
   "outputs": [],
   "source": [
    "lower_left = (30.285057, -97.745154) # insert lat,long here\n",
    "upper_right = (30.287790, -97.741399) # insert lat,long here\n",
    "user = 'kdavid' # write your geonames info here\n",
    "\n",
    "df = collectQuadrant(lower_left, upper_right, user)"
   ]
  },
  {
   "cell_type": "code",
   "execution_count": 7,
   "metadata": {
    "collapsed": true
   },
   "outputs": [],
   "source": [
    "quadrant_name = 'Quadrant_I.pkl' ### name Quadrant_x.pkl info here (x=I,II,III,IV)\n",
    "df.to_pickle(quadrant_name) "
   ]
  },
  {
   "cell_type": "code",
   "execution_count": 8,
   "metadata": {},
   "outputs": [
    {
     "data": {
      "text/html": [
       "<div>\n",
       "<style>\n",
       "    .dataframe thead tr:only-child th {\n",
       "        text-align: right;\n",
       "    }\n",
       "\n",
       "    .dataframe thead th {\n",
       "        text-align: left;\n",
       "    }\n",
       "\n",
       "    .dataframe tbody tr th {\n",
       "        vertical-align: top;\n",
       "    }\n",
       "</style>\n",
       "<table border=\"1\" class=\"dataframe\">\n",
       "  <thead>\n",
       "    <tr style=\"text-align: right;\">\n",
       "      <th></th>\n",
       "      <th>Street1</th>\n",
       "      <th>Street2</th>\n",
       "      <th>Latitude</th>\n",
       "      <th>Longitude</th>\n",
       "    </tr>\n",
       "  </thead>\n",
       "  <tbody>\n",
       "    <tr>\n",
       "      <th>0</th>\n",
       "      <td>Rio Grande St</td>\n",
       "      <td>W 22nd St</td>\n",
       "      <td>30.285263</td>\n",
       "      <td>-97.744947</td>\n",
       "    </tr>\n",
       "    <tr>\n",
       "      <th>1</th>\n",
       "      <td>W 22nd St</td>\n",
       "      <td>Nueces St</td>\n",
       "      <td>30.285179</td>\n",
       "      <td>-97.743944</td>\n",
       "    </tr>\n",
       "    <tr>\n",
       "      <th>2</th>\n",
       "      <td>W 22nd St</td>\n",
       "      <td>San Antonio St</td>\n",
       "      <td>30.285084</td>\n",
       "      <td>-97.742901</td>\n",
       "    </tr>\n",
       "    <tr>\n",
       "      <th>3</th>\n",
       "      <td>W 22nd St</td>\n",
       "      <td>Guadalupe St</td>\n",
       "      <td>30.285</td>\n",
       "      <td>-97.74181</td>\n",
       "    </tr>\n",
       "    <tr>\n",
       "      <th>4</th>\n",
       "      <td>W 22 1/2 St</td>\n",
       "      <td>Rio Grande St</td>\n",
       "      <td>30.286174</td>\n",
       "      <td>-97.74484</td>\n",
       "    </tr>\n",
       "    <tr>\n",
       "      <th>5</th>\n",
       "      <td>Rio Grande St</td>\n",
       "      <td>W 22 1/2 St</td>\n",
       "      <td>30.286174</td>\n",
       "      <td>-97.74484</td>\n",
       "    </tr>\n",
       "    <tr>\n",
       "      <th>6</th>\n",
       "      <td>San Antonio St</td>\n",
       "      <td>W 23rd St</td>\n",
       "      <td>30.286561</td>\n",
       "      <td>-97.742754</td>\n",
       "    </tr>\n",
       "    <tr>\n",
       "      <th>7</th>\n",
       "      <td>Guadalupe St</td>\n",
       "      <td>W Mall Ut</td>\n",
       "      <td>30.285891</td>\n",
       "      <td>-97.741735</td>\n",
       "    </tr>\n",
       "    <tr>\n",
       "      <th>8</th>\n",
       "      <td>W 23rd St</td>\n",
       "      <td>Rio Grande St</td>\n",
       "      <td>30.287233</td>\n",
       "      <td>-97.744742</td>\n",
       "    </tr>\n",
       "    <tr>\n",
       "      <th>9</th>\n",
       "      <td>Rio Grande St</td>\n",
       "      <td>W 23rd St</td>\n",
       "      <td>30.287233</td>\n",
       "      <td>-97.744742</td>\n",
       "    </tr>\n",
       "    <tr>\n",
       "      <th>11</th>\n",
       "      <td>Guadalupe St</td>\n",
       "      <td>W 23rd St</td>\n",
       "      <td>30.286489</td>\n",
       "      <td>-97.741685</td>\n",
       "    </tr>\n",
       "  </tbody>\n",
       "</table>\n",
       "</div>"
      ],
      "text/plain": [
       "           Street1         Street2   Latitude   Longitude\n",
       "0    Rio Grande St       W 22nd St  30.285263  -97.744947\n",
       "1        W 22nd St       Nueces St  30.285179  -97.743944\n",
       "2        W 22nd St  San Antonio St  30.285084  -97.742901\n",
       "3        W 22nd St    Guadalupe St     30.285   -97.74181\n",
       "4      W 22 1/2 St   Rio Grande St  30.286174   -97.74484\n",
       "5    Rio Grande St     W 22 1/2 St  30.286174   -97.74484\n",
       "6   San Antonio St       W 23rd St  30.286561  -97.742754\n",
       "7     Guadalupe St       W Mall Ut  30.285891  -97.741735\n",
       "8        W 23rd St   Rio Grande St  30.287233  -97.744742\n",
       "9    Rio Grande St       W 23rd St  30.287233  -97.744742\n",
       "11    Guadalupe St       W 23rd St  30.286489  -97.741685"
      ]
     },
     "execution_count": 8,
     "metadata": {},
     "output_type": "execute_result"
    }
   ],
   "source": [
    "df"
   ]
  },
  {
   "cell_type": "code",
   "execution_count": null,
   "metadata": {
    "collapsed": true
   },
   "outputs": [],
   "source": []
  }
 ],
 "metadata": {
  "kernelspec": {
   "display_name": "Python 3",
   "language": "python",
   "name": "python3"
  },
  "language_info": {
   "codemirror_mode": {
    "name": "ipython",
    "version": 3
   },
   "file_extension": ".py",
   "mimetype": "text/x-python",
   "name": "python",
   "nbconvert_exporter": "python",
   "pygments_lexer": "ipython3",
   "version": "3.6.2rc1"
  }
 },
 "nbformat": 4,
 "nbformat_minor": 2
}
