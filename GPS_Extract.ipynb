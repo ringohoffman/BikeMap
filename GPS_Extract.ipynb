{
 "cells": [
  {
   "cell_type": "markdown",
   "metadata": {},
   "source": [
    "### To use this notebook, just look through the headers and comments for each method. The final run is at the bottom, make sure to input your quadrant info. Preferably we get 4 of these running at the same time (with 4 different users). Once the quadrant info is ready, just click 'Cell' on the top tool bar and click Run All!\n",
    "\n",
    "**Make sure to fill out the quadrant data at the very bottom before running.**"
   ]
  },
  {
   "cell_type": "markdown",
   "metadata": {},
   "source": [
    "## Imports"
   ]
  },
  {
   "cell_type": "code",
   "execution_count": null,
   "metadata": {
    "collapsed": true
   },
   "outputs": [],
   "source": [
    "import urllib.request\n",
    "import pandas as pd\n",
    "import pickle\n",
    "import numpy as np\n",
    "from ratelimiter import RateLimiter\n",
    "from lxml import objectify\n",
    "import sys"
   ]
  },
  {
   "cell_type": "code",
   "execution_count": null,
   "metadata": {
    "collapsed": true
   },
   "outputs": [],
   "source": [
    "# examples of arange\n",
    "np.arange(30.123,30.125,.0001)"
   ]
  },
  {
   "cell_type": "markdown",
   "metadata": {},
   "source": [
    "## Collect Intersections"
   ]
  },
  {
   "cell_type": "code",
   "execution_count": null,
   "metadata": {
    "collapsed": true
   },
   "outputs": [],
   "source": [
    "# 1250 calls per hour = 30,000 per day, probably will take a few days to get everything at the latest\n",
    "rate_limit = RateLimiter(max_calls=1249, period=3600)"
   ]
  },
  {
   "cell_type": "code",
   "execution_count": null,
   "metadata": {
    "collapsed": true
   },
   "outputs": [],
   "source": [
    "'''\n",
    "Parameters\n",
    "----------\n",
    "lower_left: tuple of floats (latitude, longitude) for lower left coordinate\n",
    "\n",
    "upper_right: tuple of floats (latitude, longitude) for lower left coordinate\n",
    "\n",
    "username: geonames user to use\n",
    "\n",
    "Returns\n",
    "-------\n",
    "df: pandas DataFrame containing the GPS locations of intersections within quadrant (without duplicates is in testing)\n",
    "\n",
    "'''\n",
    "def collectQuadrant(lower_left, upper_right, username):\n",
    "    \n",
    "    # create grid\n",
    "    latitudes = np.arange(lower_left[0], upper_right[0], .001)\n",
    "    longitudes = np.arange(lower_left[1], upper_right[1], .001)\n",
    "    \n",
    "    # init data tables\n",
    "    info_dict = {'Street1': [], 'Street2': [], 'Latitude': [], 'Longitude': []}\n",
    "    df = None\n",
    "    \n",
    "    i = 0\n",
    "    # go through grid\n",
    "    for latitude in latitudes:\n",
    "        \n",
    "        for longitude in longitudes:\n",
    "            \n",
    "            i+=1\n",
    "            \n",
    "            if i%100==0:\n",
    "                \n",
    "                print(i)\n",
    "                sys.stdout.flush()\n",
    "            \n",
    "            # make sure to stay within rate_limit defined above\n",
    "            with rate_limit:\n",
    "                \n",
    "                info = callAPI(latitude, longitude, username)\n",
    "                \n",
    "                if info:\n",
    "                    \n",
    "                    info_dict['Street1'].append(info['street1'])\n",
    "                    info_dict['Street2'].append(info['street2'])\n",
    "                    info_dict['Latitude'].append(info['lat'])\n",
    "                    info_dict['Longitude'].append(info['lng'])\n",
    "                    \n",
    "        if df is not None:\n",
    "            \n",
    "            df = df.append(pd.DataFrame(info_dict, columns = ['Street1', 'Street2', 'Latitude', 'Longitude']))\n",
    "        \n",
    "        else:\n",
    "            \n",
    "            df = pd.DataFrame(pd.DataFrame(info_dict, columns = ['Street1', 'Street2', 'Latitude', 'Longitude']))\n",
    "            \n",
    "            \n",
    "        \n",
    "    return df.drop_duplicates()\n",
    "\n",
    "\n",
    "'''\n",
    "Parameters\n",
    "----------\n",
    "latitude: float, latitude coordinate\n",
    "\n",
    "longitude: float, longitude coordinate\n",
    "\n",
    "username: string, geonames user\n",
    "\n",
    "Returns\n",
    "-------\n",
    "dict: keys of ['street1', 'street2', 'lat', 'lng'] containing intersection info\n",
    "\n",
    "OR \n",
    "\n",
    "None: when API messes up \n",
    "\n",
    "'''\n",
    "def callAPI(latitude, longitude, username):\n",
    "    \n",
    "    r = urllib.request.urlopen('http://api.geonames.org/findNearestIntersection?lat=' + str(latitude) + '&lng=' + str(longitude) + '&username='+username).read()\n",
    "    \n",
    "    try:\n",
    "        \n",
    "        root = objectify.fromstring(r)\n",
    "        return {'street1': str(root.intersection.street1),\n",
    "                'street2': str(root.intersection.street2),\n",
    "                'lat': str(root.intersection.lat),\n",
    "                'lng': str(root.intersection.lng)}\n",
    "    \n",
    "    except:\n",
    "        \n",
    "        return None\n",
    "        \n",
    "    "
   ]
  },
  {
   "cell_type": "code",
   "execution_count": null,
   "metadata": {
    "collapsed": true
   },
   "outputs": [],
   "source": [
    "lower_left = () # insert lat,long here\n",
    "upper_right = () # insert lat,long here\n",
    "user = '' # write your geonames info here\n",
    "\n",
    "df = collectQuadrant(lower_left, upper_right, user)"
   ]
  },
  {
   "cell_type": "code",
   "execution_count": null,
   "metadata": {
    "collapsed": true
   },
   "outputs": [],
   "source": [
    "quadrant_name = 'Quadrant_I.pkl' ### name Quadrant_x.pkl info here (x=I,II,III,IV)\n",
    "df.to_pickle(quadrant_name) "
   ]
  },
  {
   "cell_type": "code",
   "execution_count": null,
   "metadata": {
    "collapsed": true
   },
   "outputs": [],
   "source": [
    "df"
   ]
  },
  {
   "cell_type": "code",
   "execution_count": null,
   "metadata": {
    "collapsed": true
   },
   "outputs": [],
   "source": []
  }
 ],
 "metadata": {
  "kernelspec": {
   "display_name": "Python 3",
   "language": "python",
   "name": "python3"
  },
  "language_info": {
   "codemirror_mode": {
    "name": "ipython",
    "version": 3
   },
   "file_extension": ".py",
   "mimetype": "text/x-python",
   "name": "python",
   "nbconvert_exporter": "python",
   "pygments_lexer": "ipython3",
   "version": "3.6.2rc1"
  }
 },
 "nbformat": 4,
 "nbformat_minor": 2
}
